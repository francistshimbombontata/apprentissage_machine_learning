{
  "nbformat": 4,
  "nbformat_minor": 0,
  "metadata": {
    "colab": {
      "provenance": [],
      "toc_visible": true,
      "authorship_tag": "ABX9TyNNypJBi+KCtlPXZd+eTH9B",
      "include_colab_link": true
    },
    "kernelspec": {
      "name": "python3",
      "display_name": "Python 3"
    },
    "language_info": {
      "name": "python"
    }
  },
  "cells": [
    {
      "cell_type": "markdown",
      "metadata": {
        "id": "view-in-github",
        "colab_type": "text"
      },
      "source": [
        "<a href=\"https://colab.research.google.com/github/francistshimbombontata/apprentissage_machine_learning/blob/main/Bases_Python_ML.ipynb\" target=\"_parent\"><img src=\"https://colab.research.google.com/assets/colab-badge.svg\" alt=\"Open In Colab\"/></a>"
      ]
    },
    {
      "cell_type": "markdown",
      "source": [],
      "metadata": {
        "id": "l-rhvNc23Xzj"
      }
    },
    {
      "cell_type": "code",
      "execution_count": null,
      "metadata": {
        "id": "46dXuGyCkL6I",
        "colab": {
          "base_uri": "https://localhost:8080/"
        },
        "outputId": "1588fc67-c32d-4340-e20f-4cb44d83c70c"
      },
      "outputs": [
        {
          "output_type": "stream",
          "name": "stdout",
          "text": [
            "<class 'list'>\n"
          ]
        }
      ],
      "source": [
        "LISTE = [1, 3.0, \"Hello\", print]\n",
        "print(type(LISTE))"
      ]
    },
    {
      "cell_type": "markdown",
      "source": [
        "# Iterable"
      ],
      "metadata": {
        "id": "WTI-zYSDUZn_"
      }
    },
    {
      "cell_type": "code",
      "source": [
        "iterator = iter(LISTE)\n",
        "iterator"
      ],
      "metadata": {
        "id": "MtKF4l3OUfFp"
      },
      "execution_count": null,
      "outputs": []
    },
    {
      "cell_type": "code",
      "source": [
        "next(iterator)"
      ],
      "metadata": {
        "id": "sNngkIc6WZ04"
      },
      "execution_count": null,
      "outputs": []
    },
    {
      "cell_type": "code",
      "source": [
        "for nombre in [1,2,3]:\n",
        "  carre = nombre**2\n",
        "  print(carre)"
      ],
      "metadata": {
        "id": "TX2p2UHyWi3U"
      },
      "execution_count": null,
      "outputs": []
    },
    {
      "cell_type": "markdown",
      "source": [
        "# Les 4 fonctions de Liste importantes"
      ],
      "metadata": {
        "id": "x1wp24QuWz2W"
      }
    },
    {
      "cell_type": "code",
      "source": [
        "# 1. La fonction \"range()\"\n",
        "# La fonction \"range\" ne prend pas trop d'espace en mémoire par rapport aux objets LIST proprement dits\n",
        "ma_range = range(10)\n",
        "\n",
        "for i in ma_range:\n",
        "  a=i\n",
        "  print(a)\n",
        "  #\n",
        "ma_range_2 = range(10, 30)\n",
        "for i in ma_range_2:\n",
        "  print(i)\n",
        "  #\n",
        "ma_range_3 = range(10, 30, 10)\n",
        "for i in ma_range_3:\n",
        "  print(i)"
      ],
      "metadata": {
        "id": "rrOusgisW8Br"
      },
      "execution_count": null,
      "outputs": []
    },
    {
      "cell_type": "code",
      "source": [
        "# 2. enumerate() : permet d'avoir l'index en même temps que la valeur\n",
        "my_enumerate = enumerate([\"A\", \"B\", \"C\"])\n",
        "\n",
        "for objet in my_enumerate:\n",
        "  print(objet)\n",
        "  #\n",
        "# On peut parcourir aussi un objet \"enumerate\" comme suit :\n",
        "for index, valeur in enumerate([\"A\", \"B\", \"C\"]):\n",
        "  print(index, valeur)"
      ],
      "metadata": {
        "id": "7ocfaRzfcLAV"
      },
      "execution_count": null,
      "outputs": []
    },
    {
      "cell_type": "code",
      "source": [
        "# 3. 'reversed()' : qui nous permet d'inverser l'ordre d'une collection\n",
        "reversed_liste = reversed([1, 2, 3])\n",
        "for i in reversed_liste:\n",
        "  print(i)"
      ],
      "metadata": {
        "id": "tKW9GW0gd-sD"
      },
      "execution_count": null,
      "outputs": []
    },
    {
      "cell_type": "code",
      "source": [
        "# 4. \"zip()\" : Mettre ensemble plusieurs iterables. La fonction va faire en\n",
        "# réalité un \"mappage\"\n",
        "plat = [\"Poisson\", \"Salade\", \"Pizza\", \"Hamburger\"]\n",
        "prix = [18, 13, 24]\n",
        "\n",
        "for plat, prix in zip(plat, prix):\n",
        "  print(plat, prix)\n",
        "#"
      ],
      "metadata": {
        "colab": {
          "base_uri": "https://localhost:8080/"
        },
        "id": "mhw9_WjRfE1p",
        "outputId": "350c4ad7-59cb-4b38-82ff-935181eb51b5"
      },
      "execution_count": null,
      "outputs": [
        {
          "output_type": "stream",
          "name": "stdout",
          "text": [
            "Poisson 18\n",
            "Salade 13\n",
            "Pizza 24\n"
          ]
        }
      ]
    },
    {
      "cell_type": "markdown",
      "source": [
        "# List Slicing"
      ],
      "metadata": {
        "id": "P6OdzzPJmsrk"
      }
    },
    {
      "cell_type": "code",
      "source": [
        "import string\n",
        "#\n",
        "alphabet = string.ascii_lowercase\n",
        "LISTE = list(\"abcdefghijklmnopqrstuvwxyz\")\n",
        "print(LISTE)"
      ],
      "metadata": {
        "colab": {
          "base_uri": "https://localhost:8080/"
        },
        "id": "pOCkKVM_m1iU",
        "outputId": "8eadbb60-a313-49e4-ada0-347e0d67821e"
      },
      "execution_count": null,
      "outputs": [
        {
          "output_type": "stream",
          "name": "stdout",
          "text": [
            "['a', 'b', 'c', 'd', 'e', 'f', 'g', 'h', 'i', 'j', 'k', 'l', 'm', 'n', 'o', 'p', 'q', 'r', 's', 't', 'u', 'v', 'w', 'x', 'y', 'z']\n"
          ]
        }
      ]
    },
    {
      "cell_type": "code",
      "source": [
        "LISTE[-1]"
      ],
      "metadata": {
        "id": "NOyKhgsRnpGy"
      },
      "execution_count": null,
      "outputs": []
    },
    {
      "cell_type": "code",
      "source": [
        "LISTE[:10]"
      ],
      "metadata": {
        "colab": {
          "base_uri": "https://localhost:8080/"
        },
        "id": "rbOrMlI2otgg",
        "outputId": "1ba7ce2a-2169-4f3c-e80f-fdc3c42cf404"
      },
      "execution_count": null,
      "outputs": [
        {
          "output_type": "execute_result",
          "data": {
            "text/plain": [
              "['a', 'b', 'c', 'd', 'e', 'f', 'g', 'h', 'i', 'j']"
            ]
          },
          "metadata": {},
          "execution_count": 48
        }
      ]
    },
    {
      "cell_type": "code",
      "source": [
        "LISTE = list(\"ABCD\")"
      ],
      "metadata": {
        "id": "jkKj5p09r9bX"
      },
      "execution_count": null,
      "outputs": []
    },
    {
      "cell_type": "code",
      "source": [
        "LISTE[1:3]"
      ],
      "metadata": {
        "colab": {
          "base_uri": "https://localhost:8080/"
        },
        "id": "tVfRZceGsG_t",
        "outputId": "e3c871f0-450a-48ad-e22c-543f3bcd3a80"
      },
      "execution_count": null,
      "outputs": [
        {
          "output_type": "execute_result",
          "data": {
            "text/plain": [
              "['B', 'C']"
            ]
          },
          "metadata": {},
          "execution_count": 53
        }
      ]
    },
    {
      "cell_type": "code",
      "source": [
        "LISTE[:-1]"
      ],
      "metadata": {
        "colab": {
          "base_uri": "https://localhost:8080/"
        },
        "id": "DtyJ6NbmsMdK",
        "outputId": "8cda0995-6211-4d35-9c1a-d32f21352146"
      },
      "execution_count": null,
      "outputs": [
        {
          "output_type": "execute_result",
          "data": {
            "text/plain": [
              "['A', 'B', 'C']"
            ]
          },
          "metadata": {},
          "execution_count": 54
        }
      ]
    },
    {
      "cell_type": "markdown",
      "source": [
        "# LIST COMPREHENSIONS"
      ],
      "metadata": {
        "id": "AFFLTAwNJWj4"
      }
    },
    {
      "cell_type": "code",
      "source": [
        "ma_liste = [x**2 for x in range(10)]\n",
        "ma_liste"
      ],
      "metadata": {
        "colab": {
          "base_uri": "https://localhost:8080/"
        },
        "id": "LFBX0py5QNkS",
        "outputId": "bb0469af-dc80-4c77-8971-bff4b273fb3f"
      },
      "execution_count": null,
      "outputs": [
        {
          "output_type": "execute_result",
          "data": {
            "text/plain": [
              "[0, 1, 4, 9, 16, 25, 36, 49, 64, 81]"
            ]
          },
          "metadata": {},
          "execution_count": 12
        }
      ]
    },
    {
      "cell_type": "code",
      "source": [
        "mon_set = {i**3 for i in range(10) if i%2==0}\n",
        "mon_set"
      ],
      "metadata": {
        "colab": {
          "base_uri": "https://localhost:8080/"
        },
        "id": "Jltaz4QtQoQn",
        "outputId": "344fc0ba-d000-4d85-cbfd-53ec539ec427"
      },
      "execution_count": null,
      "outputs": [
        {
          "output_type": "execute_result",
          "data": {
            "text/plain": [
              "{0, 8, 64, 216, 512}"
            ]
          },
          "metadata": {},
          "execution_count": 16
        }
      ]
    },
    {
      "cell_type": "code",
      "source": [
        "mon_dico = {i:i**2 for i in range(10)}\n",
        "mon_dico"
      ],
      "metadata": {
        "colab": {
          "base_uri": "https://localhost:8080/"
        },
        "id": "t5HlYc3WRDOf",
        "outputId": "fb6048a1-c419-4b12-f8f9-df6feccd508c"
      },
      "execution_count": null,
      "outputs": [
        {
          "output_type": "execute_result",
          "data": {
            "text/plain": [
              "{0: 0, 1: 1, 2: 4, 3: 9, 4: 16, 5: 25, 6: 36, 7: 49, 8: 64, 9: 81}"
            ]
          },
          "metadata": {},
          "execution_count": 17
        }
      ]
    },
    {
      "cell_type": "markdown",
      "source": [
        "# Multi-Level Indexing"
      ],
      "metadata": {
        "id": "XrNALsBDZbB7"
      }
    },
    {
      "cell_type": "code",
      "source": [
        "# Matrice = Liste à deux dimensions\n",
        "matrix = [[0, 1, 2],\n",
        "          [2, 3, 4]]"
      ],
      "metadata": {
        "id": "OSXl7tQpZfgH"
      },
      "execution_count": null,
      "outputs": []
    },
    {
      "cell_type": "code",
      "source": [
        "matrix[0]"
      ],
      "metadata": {
        "colab": {
          "base_uri": "https://localhost:8080/"
        },
        "id": "Xs3eco3qaMG2",
        "outputId": "83b4acfb-3734-4010-f37f-449b711f77ee"
      },
      "execution_count": null,
      "outputs": [
        {
          "output_type": "execute_result",
          "data": {
            "text/plain": [
              "[0, 1, 2]"
            ]
          },
          "metadata": {},
          "execution_count": 27
        }
      ]
    },
    {
      "cell_type": "code",
      "source": [
        "# Tenseur = Liste à dimensions N >= 3. Avec Cube = Liste à 3 dimensions.\n",
        "cube = [[[0, 1, 2], [2, 3, 4]],\n",
        "        [[6, 8, 2], [5, 9, 4]]]\n",
        "cube"
      ],
      "metadata": {
        "colab": {
          "base_uri": "https://localhost:8080/"
        },
        "id": "9fCH9R4KbKMu",
        "outputId": "a8512057-0295-4c59-dda1-67270ba435a3"
      },
      "execution_count": null,
      "outputs": [
        {
          "output_type": "execute_result",
          "data": {
            "text/plain": [
              "[[[0, 1, 2], [2, 3, 4]], [[6, 8, 2], [5, 9, 4]]]"
            ]
          },
          "metadata": {},
          "execution_count": 41
        }
      ]
    },
    {
      "cell_type": "code",
      "source": [
        "cube[1][0][1]"
      ],
      "metadata": {
        "colab": {
          "base_uri": "https://localhost:8080/"
        },
        "id": "d9svfgKLbpRi",
        "outputId": "8e54d56b-e8de-4e90-981b-e36f7f987869"
      },
      "execution_count": null,
      "outputs": [
        {
          "output_type": "execute_result",
          "data": {
            "text/plain": [
              "8"
            ]
          },
          "metadata": {},
          "execution_count": 34
        }
      ]
    },
    {
      "cell_type": "code",
      "source": [
        "c=3\n",
        "tenseur = [[['Z']*c for _ in range(c)] for _ in range(c)]\n",
        "tenseur"
      ],
      "metadata": {
        "colab": {
          "base_uri": "https://localhost:8080/"
        },
        "id": "KYh1Xx_KjqBg",
        "outputId": "9bb9f429-a130-4252-b0ce-78b1e2596798"
      },
      "execution_count": null,
      "outputs": [
        {
          "output_type": "execute_result",
          "data": {
            "text/plain": [
              "[[['Z', 'Z', 'Z'], ['Z', 'Z', 'Z'], ['Z', 'Z', 'Z']],\n",
              " [['Z', 'Z', 'Z'], ['Z', 'Z', 'Z'], ['Z', 'Z', 'Z']],\n",
              " [['Z', 'Z', 'Z'], ['Z', 'Z', 'Z'], ['Z', 'Z', 'Z']]]"
            ]
          },
          "metadata": {},
          "execution_count": 56
        }
      ]
    },
    {
      "cell_type": "code",
      "source": [
        "tenseur[0][0][0] = 'A'\n",
        "tenseur[1][1][0] = 'A'\n",
        "tenseur[2][2][0] = 'A'\n",
        "tenseur"
      ],
      "metadata": {
        "colab": {
          "base_uri": "https://localhost:8080/"
        },
        "id": "bLxVJRt-kUD3",
        "outputId": "fde61023-11e8-4092-b678-7bd1cc9e1126"
      },
      "execution_count": null,
      "outputs": [
        {
          "output_type": "execute_result",
          "data": {
            "text/plain": [
              "[[['A', 'Z', 'Z'], ['Z', 'Z', 'Z'], ['Z', 'Z', 'Z']],\n",
              " [['Z', 'Z', 'Z'], ['A', 'Z', 'Z'], ['Z', 'Z', 'Z']],\n",
              " [['Z', 'Z', 'Z'], ['Z', 'Z', 'Z'], ['A', 'Z', 'Z']]]"
            ]
          },
          "metadata": {},
          "execution_count": 50
        }
      ]
    },
    {
      "cell_type": "code",
      "source": [
        "for i in range(c):\n",
        "  tenseur[i][i][0] = 3\n",
        "tenseur"
      ],
      "metadata": {
        "colab": {
          "base_uri": "https://localhost:8080/"
        },
        "id": "1bSHdCNAoemR",
        "outputId": "0fe16824-f90b-4c3d-c81c-33cc59f607e3"
      },
      "execution_count": null,
      "outputs": [
        {
          "output_type": "execute_result",
          "data": {
            "text/plain": [
              "[[[3, 'Z', 'Z'], ['Z', 'Z', 'Z'], ['Z', 'Z', 'Z']],\n",
              " [['Z', 'Z', 'Z'], [3, 'Z', 'Z'], ['Z', 'Z', 'Z']],\n",
              " [['Z', 'Z', 'Z'], ['Z', 'Z', 'Z'], [3, 'Z', 'Z']]]"
            ]
          },
          "metadata": {},
          "execution_count": 52
        }
      ]
    },
    {
      "cell_type": "code",
      "source": [
        "tenseur[0][0][-1] = 'A'\n",
        "tenseur[1][1][-2] = 'A'\n",
        "tenseur[2][2][-3] = 'A'\n",
        "tenseur"
      ],
      "metadata": {
        "colab": {
          "base_uri": "https://localhost:8080/"
        },
        "id": "sVBjnzpapWOL",
        "outputId": "69f04df8-8d7d-4ca5-aec1-170cdb4885d8"
      },
      "execution_count": null,
      "outputs": [
        {
          "output_type": "execute_result",
          "data": {
            "text/plain": [
              "[[['Z', 'Z', 'A'], ['Z', 'Z', 'Z'], ['Z', 'Z', 'Z']],\n",
              " [['Z', 'Z', 'Z'], ['Z', 'A', 'Z'], ['Z', 'Z', 'Z']],\n",
              " [['Z', 'Z', 'Z'], ['Z', 'Z', 'Z'], ['A', 'Z', 'Z']]]"
            ]
          },
          "metadata": {},
          "execution_count": 54
        }
      ]
    },
    {
      "cell_type": "code",
      "source": [
        "for i in range(c):\n",
        "  tenseur[i][i][-(i+1)] = 'D'\n",
        "tenseur"
      ],
      "metadata": {
        "colab": {
          "base_uri": "https://localhost:8080/"
        },
        "id": "UgPb8gvTp6S3",
        "outputId": "283f9872-f516-4793-8879-af83e19598af"
      },
      "execution_count": null,
      "outputs": [
        {
          "output_type": "execute_result",
          "data": {
            "text/plain": [
              "[[['Z', 'Z', 'D'], ['Z', 'Z', 'Z'], ['Z', 'Z', 'Z']],\n",
              " [['Z', 'Z', 'Z'], ['Z', 'D', 'Z'], ['Z', 'Z', 'Z']],\n",
              " [['Z', 'Z', 'Z'], ['Z', 'Z', 'Z'], ['D', 'Z', 'Z']]]"
            ]
          },
          "metadata": {},
          "execution_count": 55
        }
      ]
    },
    {
      "cell_type": "code",
      "source": [
        "compteur = 0\n",
        "for i in range(c):\n",
        "  for j in range(c):\n",
        "    for k in range(c):\n",
        "      tenseur[i][j][k] = compteur\n",
        "      compteur += 1\n",
        "tenseur"
      ],
      "metadata": {
        "colab": {
          "base_uri": "https://localhost:8080/"
        },
        "id": "Rnny_G3AqmJY",
        "outputId": "21f580f8-9933-4182-cd68-21554790913b"
      },
      "execution_count": null,
      "outputs": [
        {
          "output_type": "execute_result",
          "data": {
            "text/plain": [
              "[[[0, 1, 2], [3, 4, 5], [6, 7, 8]],\n",
              " [[9, 10, 11], [12, 13, 14], [15, 16, 17]],\n",
              " [[18, 19, 20], [21, 22, 23], [24, 25, 26]]]"
            ]
          },
          "metadata": {},
          "execution_count": 57
        }
      ]
    },
    {
      "cell_type": "code",
      "source": [
        "tenseur = [[['Z']*c for _ in range(c)] for _ in range(c)]\n",
        "compteur = 0\n",
        "for i in range(c):\n",
        "  for j in range(c):\n",
        "    k=i-j\n",
        "    tenseur[-(i+1)][j][k] = compteur\n",
        "    compteur += 1\n",
        "tenseur"
      ],
      "metadata": {
        "colab": {
          "base_uri": "https://localhost:8080/"
        },
        "id": "iQFYRECWszRm",
        "outputId": "410c5ffc-2ce8-45ef-b24c-c330e5364af3"
      },
      "execution_count": null,
      "outputs": [
        {
          "output_type": "execute_result",
          "data": {
            "text/plain": [
              "[[['Z', 'Z', 6], ['Z', 7, 'Z'], [8, 'Z', 'Z']],\n",
              " [['Z', 3, 'Z'], [4, 'Z', 'Z'], ['Z', 'Z', 5]],\n",
              " [[0, 'Z', 'Z'], ['Z', 'Z', 1], ['Z', 2, 'Z']]]"
            ]
          },
          "metadata": {},
          "execution_count": 75
        }
      ]
    },
    {
      "cell_type": "markdown",
      "source": [
        "# Les Vecteurs"
      ],
      "metadata": {
        "id": "LM2dNY6A7sfr"
      }
    },
    {
      "cell_type": "code",
      "source": [
        "from random import randint\n",
        "from random import seed\n",
        "\n",
        "#Fonction pour fixer la valeur aléatoire\n",
        "\n",
        "\n",
        "def creer_vecteur_aleatoire(dimension, a=0, b=10):\n",
        "  return [randint(a, b) for _ in range(dimension)]\n",
        "\n",
        "creer_vecteur_aleatoire(5)"
      ],
      "metadata": {
        "colab": {
          "base_uri": "https://localhost:8080/"
        },
        "id": "3ELl1a2w7vyZ",
        "outputId": "3e260245-fc0c-4e00-aceb-88a9466979d6"
      },
      "execution_count": null,
      "outputs": [
        {
          "output_type": "execute_result",
          "data": {
            "text/plain": [
              "[7, 3, 0, 9, 6]"
            ]
          },
          "metadata": {},
          "execution_count": 2
        }
      ]
    },
    {
      "cell_type": "code",
      "source": [
        "#Seed : permet de rendre fixent les valeurs aléatoires générées\n",
        "seed(2025)\n",
        "vecteur_1 = creer_vecteur_aleatoire(5)\n",
        "vecteur_2 = creer_vecteur_aleatoire(5)\n",
        "print(vecteur_1)\n",
        "print(vecteur_2)\n"
      ],
      "metadata": {
        "colab": {
          "base_uri": "https://localhost:8080/"
        },
        "id": "MjHt5pu3-mgI",
        "outputId": "65d2c4a8-ba95-4230-dce2-cbac66a7e79c"
      },
      "execution_count": null,
      "outputs": [
        {
          "output_type": "stream",
          "name": "stdout",
          "text": [
            "[8, 1, 10, 7, 2]\n",
            "[8, 0, 5, 6, 9]\n"
          ]
        }
      ]
    },
    {
      "cell_type": "markdown",
      "source": [
        "## Normes de Vecteurs"
      ],
      "metadata": {
        "id": "wg9VOP0AocNq"
      }
    },
    {
      "cell_type": "markdown",
      "source": [
        "### Manhattan Norm (L1 Norm)\n",
        "**‖v‖1=|v1|+|v2|+⋯+|v3|**"
      ],
      "metadata": {
        "id": "RmcnAI12ofe_"
      }
    },
    {
      "cell_type": "code",
      "source": [
        "# L1 Norm : En Regression Linéaire/Logistique, on parle de la \"Régularisation L2\"\n",
        "#‖v‖1=|v1|+|v2|+⋯+|v3|\n",
        "#\n",
        "def manhattan_norm(vecteur):\n",
        "  return sum([abs(x) for x in vecteur])\n",
        "\n",
        "manhattan_norm(vecteur_1)"
      ],
      "metadata": {
        "colab": {
          "base_uri": "https://localhost:8080/"
        },
        "id": "1HKAL-20onGR",
        "outputId": "30856cca-41b1-4bb4-a0ad-966799124143"
      },
      "execution_count": null,
      "outputs": [
        {
          "output_type": "execute_result",
          "data": {
            "text/plain": [
              "28"
            ]
          },
          "metadata": {},
          "execution_count": 5
        }
      ]
    },
    {
      "cell_type": "markdown",
      "source": [
        "### Euclidean Norm (L2 Norm)\n",
        "** ‖v‖2=√(v1^2+v2^2+⋯vn^2 )**"
      ],
      "metadata": {
        "id": "48VWkprKpr86"
      }
    },
    {
      "cell_type": "code",
      "source": [
        "# L2 Norm : En Regression Linéaire/Logistique, on parle de la \"Régularisation L2\"\n",
        "# ‖v‖2=√(v1^2+v2^2+⋯vn^2 )\n",
        "# square root\n",
        "from math import sqrt\n",
        "#\n",
        "def euclidean_norm(vecteur):\n",
        "  return sum([x**2 for x in vecteur])**0.5\n",
        "\n",
        "def euclidean_norm_2(vecteur):\n",
        "  return sqrt(sum([x**2 for x in vecteur]))\n",
        "#\n",
        "print(euclidean_norm(vecteur_1))\n",
        "print(euclidean_norm_2(vecteur_1))\n",
        "#"
      ],
      "metadata": {
        "id": "KF2Ys4y-p9dc"
      },
      "execution_count": null,
      "outputs": []
    },
    {
      "cell_type": "markdown",
      "source": [
        "### Euclidean Distance between 2 vectors\n",
        "**d(u,v)=∥u−v∥2** : The Euclidean norm of the difference of the two vectors.\n"
      ],
      "metadata": {
        "id": "xOx62Bb4w-u8"
      }
    },
    {
      "cell_type": "code",
      "source": [
        "def euclidean_distance(vecteur_1, vecteur_2):\n",
        "  return euclidean_norm([x-y for x, y in zip(vecteur_1, vecteur_2)])\n",
        "\n",
        "def euclidean_distance_2(vecteur_1, vecteur_2):\n",
        "  return euclidean_norm_2([x-y for x, y in zip(vecteur_1, vecteur_2)])\n",
        "\n",
        "def euclidean_distance_3(vecteur_1, vecteur_2):\n",
        "  return sqrt(sum([(x-y)**2 for x, y in zip(vecteur_1, vecteur_2)]))\n",
        "\n",
        "print(euclidean_distance(vecteur_1, vecteur_2))\n",
        "print(euclidean_distance_2(vecteur_1, vecteur_2))\n",
        "print(euclidean_distance_3(vecteur_1, vecteur_2))"
      ],
      "metadata": {
        "id": "jilk-ewgxff4"
      },
      "execution_count": null,
      "outputs": []
    },
    {
      "cell_type": "markdown",
      "source": [
        "# Matrices"
      ],
      "metadata": {
        "id": "w54sNEP91BXn"
      }
    },
    {
      "cell_type": "code",
      "source": [
        "from random import randint, seed\n",
        "#\n",
        "matrix1 = [[1, 2], [3, 4]]\n",
        "matrix2 = [[5, 6], [7, 8]]\n",
        "#\n",
        "\n",
        "def creer_matrice_aleatoire(n_ligne, n_col, low=-5, high=5):\n",
        "  return [[randint(low, high) for _ in range(n_col)] for _ in range(n_ligne)]\n",
        "\n",
        "seed(2025)\n",
        "matrix3 = creer_matrice_aleatoire(3, 4)\n",
        "matrix3"
      ],
      "metadata": {
        "colab": {
          "base_uri": "https://localhost:8080/"
        },
        "id": "xHOGAImS1Gkl",
        "outputId": "a008344f-078e-4c0f-ec82-7c1ac7a81af0"
      },
      "execution_count": null,
      "outputs": [
        {
          "output_type": "execute_result",
          "data": {
            "text/plain": [
              "[[3, -4, 5, 2], [-3, 3, -5, 0], [1, 4, -2, -4]]"
            ]
          },
          "metadata": {},
          "execution_count": 64
        }
      ]
    },
    {
      "cell_type": "code",
      "source": [],
      "metadata": {
        "id": "j9zFfDM3rm3Q"
      },
      "execution_count": null,
      "outputs": []
    },
    {
      "cell_type": "markdown",
      "source": [
        "## Différences entre \"dimensions\" et \"ndim\""
      ],
      "metadata": {
        "id": "w0n-IXGCJSHG"
      }
    },
    {
      "cell_type": "code",
      "source": [
        "# Pour une matrice. 'ndim vaut 2'. Exemple A[2][1]"
      ],
      "metadata": {
        "id": "4ZcCXUvjJYOU"
      },
      "execution_count": null,
      "outputs": []
    },
    {
      "cell_type": "markdown",
      "source": [
        "## Shape.\n",
        "La 'shape' n'est rien d'autre qu'un tuple qui reprend la taille d'une matrice, c'est-à-dire le nombre de ses lignes et le nombre de ses colonnes.\n",
        "\n",
        "Exemple : Soit une matrice A de taill 3*4, alors la 'shape' s = (3,4)."
      ],
      "metadata": {
        "id": "6hik_Yd5J30U"
      }
    },
    {
      "cell_type": "code",
      "source": [
        "import numpy as np\n",
        "\n",
        "matrix4 = np.array(matrix3)\n",
        "matrix4.shape\n",
        "\n",
        "def shape(matrix):\n",
        "  return (len(matrix), len(matrix[0]))\n",
        "\n",
        "matrix5 = creer_matrice_aleatoire(4, 3)\n",
        "shape(matrix5)"
      ],
      "metadata": {
        "colab": {
          "base_uri": "https://localhost:8080/"
        },
        "id": "Q0ERovBQLDX8",
        "outputId": "22cdf52c-cffb-44a8-8dff-076fd78d3be4"
      },
      "execution_count": null,
      "outputs": [
        {
          "output_type": "execute_result",
          "data": {
            "text/plain": [
              "(4, 3)"
            ]
          },
          "metadata": {},
          "execution_count": 36
        }
      ]
    },
    {
      "cell_type": "markdown",
      "source": [
        "## Dot Product (Produit Scalaire)"
      ],
      "metadata": {
        "id": "emtZ5kmvQ2qX"
      }
    },
    {
      "cell_type": "code",
      "source": [
        "def dot_product(vect_1, vect_2):\n",
        "  assert len(vect_1) == len(vect_2), f'Erreur : {len(vect_1)} != {len(vect_2)}'\n",
        "  return sum([x*y for x, y in zip(vect_1, vect_2)])\n",
        "#\n",
        "dot_product(vecteur_1, vecteur_2)"
      ],
      "metadata": {
        "colab": {
          "base_uri": "https://localhost:8080/"
        },
        "id": "v8ZaCVmhQ-ZE",
        "outputId": "cac4f895-dce0-4dee-92ee-05fa15461a87"
      },
      "execution_count": null,
      "outputs": [
        {
          "output_type": "execute_result",
          "data": {
            "text/plain": [
              "174"
            ]
          },
          "metadata": {},
          "execution_count": 49
        }
      ]
    },
    {
      "cell_type": "markdown",
      "source": [
        "## Matrix Multiplication : Mat. Mul"
      ],
      "metadata": {
        "id": "kWeqeDrHUMXK"
      }
    },
    {
      "cell_type": "code",
      "source": [
        "def colonne(matrix, col):\n",
        "  return [matrix[i][col] for i in range(len(matrix))]\n",
        "\n",
        "\n",
        "#\n",
        "def mat_mul(matrix_A, matrix_B):\n",
        "  #\n",
        "  shapeA = shape(matrix_A)\n",
        "  shapeB = shape(matrix_B)\n",
        "  # 0. Afficher les shapes de chaque matrice\n",
        "  #print(f'Shape de A : {shapeA}')\n",
        "  #print(f'Shape de B : {shapeB}')\n",
        "  # 1. Nombre de colonnes de A == Nombre de lignes de B ==> (m, n) , (n,p)\n",
        "  assert shapeA[1] == shapeB[0], f'Erreur : {shapeA[1]} != {shapeB[0]}'\n",
        "  #\n",
        "  # 2. Afficher la 'shape' du résultat\n",
        "  shape_result = shapeA[0], shapeB[1]\n",
        "  #print(f'Shape du résultat : {shape_result}')\n",
        "  #\n",
        "  # 3. Multiplication Matricielle\n",
        "  matrix=[]\n",
        "\n",
        "  for i in range(shape_result[0]): # Les lignes\n",
        "    ligne = []\n",
        "    for j in range(shape_result[1]): # Les colonnes\n",
        "      ligne_A = matrix_A[i]\n",
        "      colonne_B = [x[j] for x in matrix_B]\n",
        "      resultat = dot_product(ligne_A, colonne_B)\n",
        "      ligne.append(resultat)\n",
        "    matrix.append(ligne)\n",
        "  #\n",
        "  return matrix\n",
        "\n",
        "mat_mul(matrix1, matrix2)\n",
        "\n",
        "A = creer_matrice_aleatoire(3, 4)\n",
        "B = creer_matrice_aleatoire(4, 3)\n",
        "#\n",
        "mat_mul(matrix1, matrix2)"
      ],
      "metadata": {
        "colab": {
          "base_uri": "https://localhost:8080/"
        },
        "id": "obXoTWgnUQrD",
        "outputId": "12daea18-875e-4dd2-89f6-576e498c6d39"
      },
      "execution_count": null,
      "outputs": [
        {
          "output_type": "execute_result",
          "data": {
            "text/plain": [
              "[[19, 22], [43, 50]]"
            ]
          },
          "metadata": {},
          "execution_count": 153
        }
      ]
    },
    {
      "cell_type": "markdown",
      "source": [
        "## Matrice Identité ou Matrice Unité (Identity Matrix)"
      ],
      "metadata": {
        "id": "dwLrePFnd8CR"
      }
    },
    {
      "cell_type": "code",
      "source": [
        "def identity_matrix(n):\n",
        "  return [[1 if i==j else 0 for j in range(n)] for i in range(n)]\n",
        "\n",
        "def identity_matrix_2(n):\n",
        "  matrix = []\n",
        "  for i in range(n):\n",
        "    ligne = []\n",
        "    for j in range(n):\n",
        "      nombre = 0\n",
        "      if i==j:\n",
        "        nombre = 1\n",
        "        #\n",
        "      ligne.append(nombre)\n",
        "      #\n",
        "    matrix.append(ligne)\n",
        "\n",
        "  return matrix\n",
        "    #\n",
        "id_4 = identity_matrix(4)\n",
        "id_5 = identity_matrix_2(5)\n",
        "\n"
      ],
      "metadata": {
        "collapsed": true,
        "id": "7IFVHbhueVT1"
      },
      "execution_count": null,
      "outputs": []
    },
    {
      "cell_type": "code",
      "source": [
        "matrixA = creer_matrice_aleatoire(6, 5, low=0, high=6)\n",
        "matrixA"
      ],
      "metadata": {
        "colab": {
          "base_uri": "https://localhost:8080/"
        },
        "id": "zV9D6mYReJJL",
        "outputId": "0d25b80a-4552-48e2-e68e-bb0c083b95b8"
      },
      "execution_count": null,
      "outputs": [
        {
          "output_type": "execute_result",
          "data": {
            "text/plain": [
              "[[4, 6, 6, 3, 3],\n",
              " [5, 0, 6, 5, 4],\n",
              " [3, 5, 4, 0, 6],\n",
              " [2, 6, 4, 6, 1],\n",
              " [2, 1, 4, 4, 4],\n",
              " [2, 1, 6, 2, 2]]"
            ]
          },
          "metadata": {},
          "execution_count": 91
        }
      ]
    },
    {
      "cell_type": "markdown",
      "source": [],
      "metadata": {
        "id": "uL2GU0PHl0b9"
      }
    },
    {
      "cell_type": "code",
      "source": [
        "shape(matrixA), shape(id_5)"
      ],
      "metadata": {
        "colab": {
          "base_uri": "https://localhost:8080/"
        },
        "id": "JzIgU1aIlzHs",
        "outputId": "dbf15692-aff9-47ea-d1ec-43abf1805f04"
      },
      "execution_count": null,
      "outputs": [
        {
          "output_type": "execute_result",
          "data": {
            "text/plain": [
              "((6, 5), (5, 5))"
            ]
          },
          "metadata": {},
          "execution_count": 92
        }
      ]
    },
    {
      "cell_type": "code",
      "source": [
        "mat_mul(matrixA, id_5)"
      ],
      "metadata": {
        "colab": {
          "base_uri": "https://localhost:8080/"
        },
        "id": "WPA5KAqgmKRg",
        "outputId": "9a8cc1d5-cbe7-4687-d2af-b13902cd1415"
      },
      "execution_count": null,
      "outputs": [
        {
          "output_type": "stream",
          "name": "stdout",
          "text": [
            "Shape de A : (6, 5)\n",
            "Shape de B : (5, 5)\n",
            "Shape du résultat : (6, 5)\n"
          ]
        },
        {
          "output_type": "execute_result",
          "data": {
            "text/plain": [
              "[[4, 6, 6, 3, 3],\n",
              " [5, 0, 6, 5, 4],\n",
              " [3, 5, 4, 0, 6],\n",
              " [2, 6, 4, 6, 1],\n",
              " [2, 1, 4, 4, 4],\n",
              " [2, 1, 6, 2, 2]]"
            ]
          },
          "metadata": {},
          "execution_count": 95
        }
      ]
    },
    {
      "cell_type": "markdown",
      "source": [
        "## Matrice Inverse (Inverse Matrix)"
      ],
      "metadata": {
        "id": "Ej1gCsHUnE4Z"
      }
    },
    {
      "cell_type": "code",
      "source": [
        "mat3 = [[4,-2,3],\n",
        "        [8,-3,5],\n",
        "        [7,-2,4]]\n",
        "inv3 = [[-2, 2, -1],\n",
        "        [3, -5, 4],\n",
        "        [5, -6, 4]]\n",
        "#mat_mul(mat3, inv3)\n",
        "mat_mul(inv3, mat3)"
      ],
      "metadata": {
        "colab": {
          "base_uri": "https://localhost:8080/"
        },
        "id": "FNKDMuPenKZ_",
        "outputId": "2b12c037-a4ec-4d47-b026-ca4c0d13d2d8"
      },
      "execution_count": null,
      "outputs": [
        {
          "output_type": "stream",
          "name": "stdout",
          "text": [
            "Shape de A : (3, 3)\n",
            "Shape de B : (3, 3)\n",
            "Shape du résultat : (3, 3)\n"
          ]
        },
        {
          "output_type": "execute_result",
          "data": {
            "text/plain": [
              "[[1, 0, 0], [0, 1, 0], [0, 0, 1]]"
            ]
          },
          "metadata": {},
          "execution_count": 99
        }
      ]
    },
    {
      "cell_type": "code",
      "source": [
        "import numpy as np\n",
        "inv3 = np.linalg.inv(mat3)"
      ],
      "metadata": {
        "colab": {
          "base_uri": "https://localhost:8080/"
        },
        "id": "Cbqwno_3qnbJ",
        "outputId": "3e7a9adf-e243-41b6-bfc0-2b9d2c5f9670"
      },
      "execution_count": null,
      "outputs": [
        {
          "output_type": "execute_result",
          "data": {
            "text/plain": [
              "array([[-2.,  2., -1.],\n",
              "       [ 3., -5.,  4.],\n",
              "       [ 5., -6.,  4.]])"
            ]
          },
          "metadata": {},
          "execution_count": 102
        }
      ]
    },
    {
      "cell_type": "markdown",
      "source": [
        "## Matrice Transposée (Transpose of Matrix)"
      ],
      "metadata": {
        "id": "RTBzvyR9sAD6"
      }
    },
    {
      "cell_type": "code",
      "source": [
        "import numpy as np\n",
        "np.transpose(mat3)"
      ],
      "metadata": {
        "colab": {
          "base_uri": "https://localhost:8080/"
        },
        "id": "xGIkwE9WsND_",
        "outputId": "02216280-6a48-4220-f94e-5e5f0cd23dcc"
      },
      "execution_count": null,
      "outputs": [
        {
          "output_type": "execute_result",
          "data": {
            "text/plain": [
              "array([[ 4,  8,  7],\n",
              "       [-2, -3, -2],\n",
              "       [ 3,  5,  4]])"
            ]
          },
          "metadata": {},
          "execution_count": 103
        }
      ]
    },
    {
      "cell_type": "code",
      "source": [
        "def colonne(matrix, col):\n",
        "  return [matrix[i][col] for i in range(len(matrix))]\n",
        "\n",
        "def transpose(matrix):\n",
        "  matrix_t = []\n",
        "  for i in range(len(matrix[0])):\n",
        "    matrix_t.append(colonne(matrix, i))\n",
        "  return matrix_t\n",
        "#\n",
        "def transpose_2(matrix):\n",
        "  return [colonne(matrix, i) for i in range(len(matrix[0]))]\n",
        "\n",
        "mat3t = transpose(mat3)\n",
        "print(mat3t)\n",
        "mat3tt = transpose_2(mat3t)\n",
        "print(mat3tt)\n",
        "#"
      ],
      "metadata": {
        "colab": {
          "base_uri": "https://localhost:8080/"
        },
        "id": "r8_8DFv8r5XM",
        "outputId": "381f5bea-48cc-48b2-a82a-b37dca9edbe0"
      },
      "execution_count": null,
      "outputs": [
        {
          "output_type": "stream",
          "name": "stdout",
          "text": [
            "[[4, 8, 7], [-2, -3, -2], [3, 5, 4]]\n",
            "[[4, -2, 3], [8, -3, 5], [7, -2, 4]]\n"
          ]
        }
      ]
    },
    {
      "cell_type": "markdown",
      "source": [
        "# NumPy (Numerical Python)\n",
        "Librairie Python qui rend possible le ML en Python.\n",
        "\n",
        "Cette librairie suppporte deux autres librairies les plus utilisées : **Pandas** et **Scit-Learn**."
      ],
      "metadata": {
        "id": "QXuU86MixEut"
      }
    },
    {
      "cell_type": "code",
      "source": [
        "import numpy as np\n",
        "\n",
        "np.ones((3, 4))"
      ],
      "metadata": {
        "colab": {
          "base_uri": "https://localhost:8080/"
        },
        "id": "YHytv6K15ppb",
        "outputId": "c70bbc20-006d-4dc8-fb6f-5ce632bb2d11"
      },
      "execution_count": null,
      "outputs": [
        {
          "output_type": "execute_result",
          "data": {
            "text/plain": [
              "array([[1., 1., 1., 1.],\n",
              "       [1., 1., 1., 1.],\n",
              "       [1., 1., 1., 1.]])"
            ]
          },
          "metadata": {},
          "execution_count": 3
        }
      ]
    },
    {
      "cell_type": "code",
      "source": [],
      "metadata": {
        "id": "1KXyZlOOU7Q2"
      },
      "execution_count": null,
      "outputs": []
    },
    {
      "cell_type": "code",
      "source": [
        "a = np.random.randint(0, 10, size=(4, 3))\n",
        "type(a)"
      ],
      "metadata": {
        "colab": {
          "base_uri": "https://localhost:8080/"
        },
        "id": "1p4R-4QV5ka1",
        "outputId": "dd497d46-489e-4afa-a5a1-52d69e57d646"
      },
      "execution_count": null,
      "outputs": [
        {
          "output_type": "execute_result",
          "data": {
            "text/plain": [
              "numpy.ndarray"
            ]
          },
          "metadata": {},
          "execution_count": 115
        }
      ]
    },
    {
      "cell_type": "code",
      "source": [
        "a"
      ],
      "metadata": {
        "colab": {
          "base_uri": "https://localhost:8080/"
        },
        "id": "AQDWeuWSzAQB",
        "outputId": "e06c6e84-f08a-455d-8db0-2584ea0bcd94"
      },
      "execution_count": null,
      "outputs": [
        {
          "output_type": "execute_result",
          "data": {
            "text/plain": [
              "array([[6, 6, 5],\n",
              "       [7, 4, 4],\n",
              "       [8, 1, 9],\n",
              "       [8, 6, 9]])"
            ]
          },
          "metadata": {},
          "execution_count": 116
        }
      ]
    },
    {
      "cell_type": "code",
      "source": [
        "liste = [[6, 6, 5],\n",
        "       [7, 4, 4],\n",
        "       [8, 1, 9],\n",
        "       [8, 6, 9]]\n",
        "type(liste)"
      ],
      "metadata": {
        "colab": {
          "base_uri": "https://localhost:8080/"
        },
        "id": "GAJrYwdL3PiA",
        "outputId": "22091168-04b7-4cba-9094-a04ee8f75c8c"
      },
      "execution_count": null,
      "outputs": [
        {
          "output_type": "execute_result",
          "data": {
            "text/plain": [
              "list"
            ]
          },
          "metadata": {},
          "execution_count": 119
        }
      ]
    },
    {
      "cell_type": "code",
      "source": [
        "liste_array = np.array(liste)\n",
        "type(liste_array)\n"
      ],
      "metadata": {
        "colab": {
          "base_uri": "https://localhost:8080/"
        },
        "id": "1N3cHglzxHPe",
        "outputId": "2f626a44-4ec2-4a5e-97e4-0fbc354ac096"
      },
      "execution_count": null,
      "outputs": [
        {
          "output_type": "execute_result",
          "data": {
            "text/plain": [
              "numpy.ndarray"
            ]
          },
          "metadata": {},
          "execution_count": 122
        }
      ]
    },
    {
      "cell_type": "code",
      "source": [
        "# Pour savoir la dimension\n",
        "liste_array.ndim"
      ],
      "metadata": {
        "colab": {
          "base_uri": "https://localhost:8080/"
        },
        "id": "rwRNif9e_DZl",
        "outputId": "45d906d0-1b2c-4a87-bcb3-a11f4af2b0e3"
      },
      "execution_count": null,
      "outputs": [
        {
          "output_type": "execute_result",
          "data": {
            "text/plain": [
              "2"
            ]
          },
          "metadata": {},
          "execution_count": 124
        }
      ]
    },
    {
      "cell_type": "code",
      "source": [
        "# Pour savoir la taille ou la shape\n",
        "liste_array.shape"
      ],
      "metadata": {
        "colab": {
          "base_uri": "https://localhost:8080/"
        },
        "id": "QFY-1d5K_KXs",
        "outputId": "6185c33b-1e9e-4192-894e-08aa38c97be1"
      },
      "execution_count": null,
      "outputs": [
        {
          "output_type": "execute_result",
          "data": {
            "text/plain": [
              "(4, 3)"
            ]
          },
          "metadata": {},
          "execution_count": 126
        }
      ]
    },
    {
      "cell_type": "code",
      "source": [
        "dimension = 200\n",
        "A = np.random.randint(low = 0, high = 10, size=(dimension, dimension))\n",
        "B= np.random.randint(low = 0, high = 10, size=(dimension, dimension))\n",
        "A"
      ],
      "metadata": {
        "colab": {
          "base_uri": "https://localhost:8080/"
        },
        "id": "mFRJ30Vv_Y3e",
        "outputId": "4619823a-3623-4c23-a28d-d2a426a6e8ec"
      },
      "execution_count": null,
      "outputs": [
        {
          "output_type": "execute_result",
          "data": {
            "text/plain": [
              "array([[1, 6, 5, ..., 0, 3, 9],\n",
              "       [3, 8, 2, ..., 3, 0, 2],\n",
              "       [8, 9, 3, ..., 2, 7, 8],\n",
              "       ...,\n",
              "       [2, 5, 7, ..., 5, 7, 5],\n",
              "       [7, 9, 9, ..., 2, 6, 9],\n",
              "       [2, 0, 3, ..., 7, 4, 3]])"
            ]
          },
          "metadata": {},
          "execution_count": 33
        }
      ]
    },
    {
      "cell_type": "code",
      "source": [
        "B"
      ],
      "metadata": {
        "colab": {
          "base_uri": "https://localhost:8080/"
        },
        "id": "LyGcSlWi_4En",
        "outputId": "1e49c73e-165c-4ebb-c693-4832179ef54e"
      },
      "execution_count": null,
      "outputs": [
        {
          "output_type": "execute_result",
          "data": {
            "text/plain": [
              "array([[8, 2, 5, 2],\n",
              "       [1, 1, 6, 1],\n",
              "       [9, 6, 7, 3]])"
            ]
          },
          "metadata": {},
          "execution_count": 135
        }
      ]
    },
    {
      "cell_type": "code",
      "source": [
        "A.shape, B.shape"
      ],
      "metadata": {
        "colab": {
          "base_uri": "https://localhost:8080/"
        },
        "id": "8XDbHMOg_8LL",
        "outputId": "0691c249-91bd-464c-c0ea-9ad982cbe2bf"
      },
      "execution_count": null,
      "outputs": [
        {
          "output_type": "execute_result",
          "data": {
            "text/plain": [
              "((200, 200), (200, 200))"
            ]
          },
          "metadata": {},
          "execution_count": 34
        }
      ]
    },
    {
      "cell_type": "code",
      "source": [
        "# Le nombre d'élément d'un Array\n",
        "a.size"
      ],
      "metadata": {
        "colab": {
          "base_uri": "https://localhost:8080/"
        },
        "id": "oAGE3_X2aJqq",
        "outputId": "763c652d-68c4-4d6f-8c02-75f8aceb3bee"
      },
      "execution_count": null,
      "outputs": [
        {
          "output_type": "execute_result",
          "data": {
            "text/plain": [
              "12"
            ]
          },
          "metadata": {},
          "execution_count": 35
        }
      ]
    },
    {
      "cell_type": "code",
      "source": [
        "# La Multiplication des Matrices avec NumPy\n",
        "np.dot(A, B)"
      ],
      "metadata": {
        "colab": {
          "base_uri": "https://localhost:8080/"
        },
        "id": "8Xk8rup9_-3M",
        "outputId": "790ce896-58b9-4abd-eb68-9fbce8ba884f"
      },
      "execution_count": null,
      "outputs": [
        {
          "output_type": "execute_result",
          "data": {
            "text/plain": [
              "array([[4004, 4057, 4191, ..., 4522, 4381, 4035],\n",
              "       [3556, 3623, 3290, ..., 3372, 3641, 3431],\n",
              "       [3855, 3766, 3755, ..., 3973, 4232, 3767],\n",
              "       ...,\n",
              "       [3864, 4099, 3695, ..., 3911, 4111, 3695],\n",
              "       [4007, 4135, 4048, ..., 3890, 4143, 3902],\n",
              "       [3629, 3586, 3678, ..., 3787, 3623, 3609]])"
            ]
          },
          "metadata": {},
          "execution_count": 169
        }
      ]
    },
    {
      "cell_type": "code",
      "source": [
        "# La Transposée d'une matrice\n",
        "AT = A.T # Ou encore\n",
        "AT2 = np.transpose(A)\n",
        "AT2"
      ],
      "metadata": {
        "colab": {
          "base_uri": "https://localhost:8080/"
        },
        "id": "2FfMrGhKAUiU",
        "outputId": "5495b503-b643-4735-8717-aa8d11455738"
      },
      "execution_count": null,
      "outputs": [
        {
          "output_type": "execute_result",
          "data": {
            "text/plain": [
              "array([[5, 2, 2, 4],\n",
              "       [2, 0, 0, 0],\n",
              "       [5, 5, 8, 7]])"
            ]
          },
          "metadata": {},
          "execution_count": 141
        }
      ]
    },
    {
      "cell_type": "code",
      "source": [
        "C = np.ones(shape=(2, 5))\n",
        "C"
      ],
      "metadata": {
        "colab": {
          "base_uri": "https://localhost:8080/"
        },
        "id": "jdH5k0GHAvzz",
        "outputId": "4d46e14a-51cd-4c26-839e-d591408c2416"
      },
      "execution_count": null,
      "outputs": [
        {
          "output_type": "execute_result",
          "data": {
            "text/plain": [
              "array([[1., 1., 1., 1., 1.],\n",
              "       [1., 1., 1., 1., 1.]])"
            ]
          },
          "metadata": {},
          "execution_count": 171
        }
      ]
    },
    {
      "cell_type": "code",
      "source": [
        "# Transposée\n",
        "C.T"
      ],
      "metadata": {
        "colab": {
          "base_uri": "https://localhost:8080/"
        },
        "id": "PwvUXfV_A8xj",
        "outputId": "3bf174c0-1de4-4a7b-8765-d26264c72b75"
      },
      "execution_count": null,
      "outputs": [
        {
          "output_type": "execute_result",
          "data": {
            "text/plain": [
              "array([[1., 1.],\n",
              "       [1., 1.],\n",
              "       [1., 1.],\n",
              "       [1., 1.],\n",
              "       [1., 1.]])"
            ]
          },
          "metadata": {},
          "execution_count": 148
        }
      ]
    },
    {
      "cell_type": "code",
      "source": [
        "from time import time\n",
        "n_loop = 5\n",
        "s_start = time()\n",
        "\n",
        "for _ in range(n_loop):\n",
        "  np.dot(A, B)\n",
        "s_end = time()\n",
        "t_numpy = (s_end - s_start)/n_loop\n",
        "print(f'Temps effetué avec NUMPY {t_numpy}')"
      ],
      "metadata": {
        "colab": {
          "base_uri": "https://localhost:8080/"
        },
        "id": "XQ3sGgmWA3H4",
        "outputId": "81df9a60-406b-43d5-9126-a39c7b349115"
      },
      "execution_count": null,
      "outputs": [
        {
          "output_type": "stream",
          "name": "stdout",
          "text": [
            "Temps effetué avec NUMPY 0.008363914489746094\n"
          ]
        }
      ]
    },
    {
      "cell_type": "code",
      "source": [
        "s_start = time()\n",
        "for _ in range(n_loop):\n",
        "  mat_mul(A, B)\n",
        "s_end = time()\n",
        "t_list = (s_end - s_start)/n_loop\n",
        "print(f'Temps effetué avec LISTE {t_list}')"
      ],
      "metadata": {
        "colab": {
          "base_uri": "https://localhost:8080/"
        },
        "id": "jF_p4ymrDZu3",
        "outputId": "aeeb3f78-b8d4-4e0d-e373-a675bf8ef3d8"
      },
      "execution_count": null,
      "outputs": [
        {
          "output_type": "stream",
          "name": "stdout",
          "text": [
            "Temps effetué avec LISTE 3.6389434814453123\n"
          ]
        }
      ]
    },
    {
      "cell_type": "code",
      "source": [
        "t_list/t_numpy"
      ],
      "metadata": {
        "colab": {
          "base_uri": "https://localhost:8080/"
        },
        "id": "mE1SFWoFFF33",
        "outputId": "21d04864-0f8c-431c-dc66-31f451b35afd"
      },
      "execution_count": null,
      "outputs": [
        {
          "output_type": "execute_result",
          "data": {
            "text/plain": [
              "435.0766003055802"
            ]
          },
          "metadata": {},
          "execution_count": 177
        }
      ]
    },
    {
      "cell_type": "code",
      "source": [
        "# Matrice Nulle\n",
        "np.zeros((3, 4))"
      ],
      "metadata": {
        "colab": {
          "base_uri": "https://localhost:8080/"
        },
        "id": "_CPfoxthHimH",
        "outputId": "25bec78d-014d-4bc9-dd4c-6764f1edfc5c"
      },
      "execution_count": null,
      "outputs": [
        {
          "output_type": "execute_result",
          "data": {
            "text/plain": [
              "array([[0., 0., 0., 0.],\n",
              "       [0., 0., 0., 0.],\n",
              "       [0., 0., 0., 0.]])"
            ]
          },
          "metadata": {},
          "execution_count": 180
        }
      ]
    },
    {
      "cell_type": "code",
      "source": [
        "# Matrice Identité\n",
        "np.eye(4)"
      ],
      "metadata": {
        "colab": {
          "base_uri": "https://localhost:8080/"
        },
        "id": "jq5HrFlkH5Ee",
        "outputId": "dc15b152-a129-4769-bad8-1a629236a6e2"
      },
      "execution_count": null,
      "outputs": [
        {
          "output_type": "execute_result",
          "data": {
            "text/plain": [
              "array([[1., 0., 0., 0.],\n",
              "       [0., 1., 0., 0.],\n",
              "       [0., 0., 1., 0.],\n",
              "       [0., 0., 0., 1.]])"
            ]
          },
          "metadata": {},
          "execution_count": 4
        }
      ]
    },
    {
      "cell_type": "markdown",
      "source": [
        "## Array Fundamentals"
      ],
      "metadata": {
        "id": "fgPusZUmU-Gc"
      }
    },
    {
      "cell_type": "code",
      "source": [
        "a = np.array([1, 2, 3, 4, 5, 6])\n",
        "a[0]"
      ],
      "metadata": {
        "colab": {
          "base_uri": "https://localhost:8080/"
        },
        "id": "9qlNdQEcVB43",
        "outputId": "9ca63305-e301-45a0-b390-79cc7389032b"
      },
      "execution_count": null,
      "outputs": [
        {
          "output_type": "execute_result",
          "data": {
            "text/plain": [
              "np.int64(1)"
            ]
          },
          "metadata": {},
          "execution_count": 8
        }
      ]
    },
    {
      "cell_type": "code",
      "source": [
        "a[0] = 10\n",
        "a"
      ],
      "metadata": {
        "colab": {
          "base_uri": "https://localhost:8080/"
        },
        "id": "ahBmR6k0VY9w",
        "outputId": "23234878-2b4b-434f-dcab-7ea8bf555ae9"
      },
      "execution_count": null,
      "outputs": [
        {
          "output_type": "execute_result",
          "data": {
            "text/plain": [
              "array([10,  2,  3,  4,  5,  6])"
            ]
          },
          "metadata": {},
          "execution_count": 12
        }
      ]
    },
    {
      "cell_type": "code",
      "source": [
        "a[:3]"
      ],
      "metadata": {
        "colab": {
          "base_uri": "https://localhost:8080/"
        },
        "id": "4Ne3ed4FVanW",
        "outputId": "e913b03e-979b-4dee-cbfe-84032c424d9c"
      },
      "execution_count": null,
      "outputs": [
        {
          "output_type": "execute_result",
          "data": {
            "text/plain": [
              "array([10,  2,  3])"
            ]
          },
          "metadata": {},
          "execution_count": 13
        }
      ]
    },
    {
      "cell_type": "code",
      "source": [
        "b=a[3:]\n",
        "b"
      ],
      "metadata": {
        "colab": {
          "base_uri": "https://localhost:8080/"
        },
        "id": "aTlhxDUSVlvB",
        "outputId": "3cba5b8a-104f-495e-a31a-e39b982cc2e1"
      },
      "execution_count": null,
      "outputs": [
        {
          "output_type": "execute_result",
          "data": {
            "text/plain": [
              "array([4, 5, 6])"
            ]
          },
          "metadata": {},
          "execution_count": 17
        }
      ]
    },
    {
      "cell_type": "code",
      "source": [
        "a = np.array([[1, 2, 3, 4], [5, 6, 7, 8], [9, 10, 11, 12]])\n",
        "a"
      ],
      "metadata": {
        "colab": {
          "base_uri": "https://localhost:8080/"
        },
        "id": "4Kr3g-v_V_sg",
        "outputId": "d840b516-6a46-4ac6-c9f6-4ce69fa0daed"
      },
      "execution_count": null,
      "outputs": [
        {
          "output_type": "execute_result",
          "data": {
            "text/plain": [
              "array([[ 1,  2,  3,  4],\n",
              "       [ 5,  6,  7,  8],\n",
              "       [ 9, 10, 11, 12]])"
            ]
          },
          "metadata": {},
          "execution_count": 18
        }
      ]
    },
    {
      "cell_type": "code",
      "source": [
        "a.ndim"
      ],
      "metadata": {
        "colab": {
          "base_uri": "https://localhost:8080/"
        },
        "id": "BoClWCqAVb8n",
        "outputId": "0f451db1-0ee0-4671-c297-fed9ba4bf6ba"
      },
      "execution_count": null,
      "outputs": [
        {
          "output_type": "execute_result",
          "data": {
            "text/plain": [
              "2"
            ]
          },
          "metadata": {},
          "execution_count": 19
        }
      ]
    },
    {
      "cell_type": "code",
      "source": [
        "a[0][1]"
      ],
      "metadata": {
        "colab": {
          "base_uri": "https://localhost:8080/"
        },
        "id": "MTyt-b5nU9oU",
        "outputId": "6a028753-5c28-4024-cb87-59ed99f409e0"
      },
      "execution_count": null,
      "outputs": [
        {
          "output_type": "execute_result",
          "data": {
            "text/plain": [
              "np.int64(2)"
            ]
          },
          "metadata": {},
          "execution_count": 20
        }
      ]
    },
    {
      "cell_type": "code",
      "source": [
        "a[0,1]"
      ],
      "metadata": {
        "colab": {
          "base_uri": "https://localhost:8080/"
        },
        "id": "_-aJmPkfU9Bj",
        "outputId": "b0f5fb3d-2a65-4782-e80f-20ef43367878"
      },
      "execution_count": null,
      "outputs": [
        {
          "output_type": "execute_result",
          "data": {
            "text/plain": [
              "np.int64(2)"
            ]
          },
          "metadata": {},
          "execution_count": 30
        }
      ]
    },
    {
      "cell_type": "code",
      "source": [
        "# Type de données d'un Array\n",
        "a.dtype"
      ],
      "metadata": {
        "colab": {
          "base_uri": "https://localhost:8080/"
        },
        "id": "BWadKhepU1nf",
        "outputId": "c991c681-ba47-40d0-971f-20807ec88aa3"
      },
      "execution_count": null,
      "outputs": [
        {
          "output_type": "execute_result",
          "data": {
            "text/plain": [
              "dtype('int64')"
            ]
          },
          "metadata": {},
          "execution_count": 36
        }
      ]
    },
    {
      "cell_type": "code",
      "source": [
        "# Créer un Array Vide avec 2 élements.\n",
        "np.empty(3)"
      ],
      "metadata": {
        "colab": {
          "base_uri": "https://localhost:8080/"
        },
        "id": "tSvubrTTUx2G",
        "outputId": "a3334e26-cf1c-4cf2-ed52-fd8dd92bcce8"
      },
      "execution_count": null,
      "outputs": [
        {
          "output_type": "execute_result",
          "data": {
            "text/plain": [
              "array([0. , 0.5, 1. ])"
            ]
          },
          "metadata": {},
          "execution_count": 43
        }
      ]
    },
    {
      "cell_type": "code",
      "source": [
        "# Créer un Array avec une plage d'élémennts\n",
        "np.arange(5)"
      ],
      "metadata": {
        "colab": {
          "base_uri": "https://localhost:8080/"
        },
        "id": "H3DoB4YjbErJ",
        "outputId": "f54c47d0-5e3f-4653-ae01-75e840e59901"
      },
      "execution_count": null,
      "outputs": [
        {
          "output_type": "execute_result",
          "data": {
            "text/plain": [
              "array([0, 1, 2, 3, 4])"
            ]
          },
          "metadata": {},
          "execution_count": 47
        }
      ]
    },
    {
      "cell_type": "code",
      "source": [
        "# Créer un Array avec une plage d'éléments avec un pas d'incrément\n",
        "np.arange(2, 10, 2)"
      ],
      "metadata": {
        "colab": {
          "base_uri": "https://localhost:8080/"
        },
        "id": "k3RkayEIbU4R",
        "outputId": "ff4d87ae-787a-402a-c0b7-d99c9cd4f615"
      },
      "execution_count": null,
      "outputs": [
        {
          "output_type": "execute_result",
          "data": {
            "text/plain": [
              "array([2, 4, 6, 8])"
            ]
          },
          "metadata": {},
          "execution_count": 49
        }
      ]
    },
    {
      "cell_type": "code",
      "source": [
        "# Array espacé linéairement avec un intervalle spécifié\n",
        "np.linspace(0, 10, num=5)"
      ],
      "metadata": {
        "colab": {
          "base_uri": "https://localhost:8080/"
        },
        "id": "Q5NDnYxqboC4",
        "outputId": "32a90d33-c244-4329-afaf-7a8e70c6962e"
      },
      "execution_count": null,
      "outputs": [
        {
          "output_type": "execute_result",
          "data": {
            "text/plain": [
              "array([ 0. ,  2.5,  5. ,  7.5, 10. ])"
            ]
          },
          "metadata": {},
          "execution_count": 52
        }
      ]
    },
    {
      "cell_type": "code",
      "source": [
        "# On peut spécifié le type des éléments d'un Array\n",
        "np.ones(2, dtype=np.int64)"
      ],
      "metadata": {
        "colab": {
          "base_uri": "https://localhost:8080/"
        },
        "id": "oic5XqWyb4by",
        "outputId": "0050c094-77cf-4812-8d1b-789bfa268cb9"
      },
      "execution_count": null,
      "outputs": [
        {
          "output_type": "execute_result",
          "data": {
            "text/plain": [
              "array([1, 1])"
            ]
          },
          "metadata": {},
          "execution_count": 54
        }
      ]
    },
    {
      "cell_type": "code",
      "source": [
        "# Reshape an Array\n",
        "a = np.arange(6)\n",
        "print(a)"
      ],
      "metadata": {
        "colab": {
          "base_uri": "https://localhost:8080/"
        },
        "id": "iJmZqAjCcIZA",
        "outputId": "d484825b-0f17-4a05-bc02-8244aa3e25c2"
      },
      "execution_count": null,
      "outputs": [
        {
          "output_type": "stream",
          "name": "stdout",
          "text": [
            "[0 1 2 3 4 5]\n"
          ]
        }
      ]
    },
    {
      "cell_type": "code",
      "source": [
        "a.size"
      ],
      "metadata": {
        "colab": {
          "base_uri": "https://localhost:8080/"
        },
        "id": "3lK5muNadhOA",
        "outputId": "f80aa028-a2b1-47c5-9ddd-1f43fb035bc5"
      },
      "execution_count": null,
      "outputs": [
        {
          "output_type": "execute_result",
          "data": {
            "text/plain": [
              "6"
            ]
          },
          "metadata": {},
          "execution_count": 60
        }
      ]
    },
    {
      "cell_type": "code",
      "source": [
        "a.shape\n",
        "b= a.reshape(2, 3)\n",
        "print(b)"
      ],
      "metadata": {
        "colab": {
          "base_uri": "https://localhost:8080/"
        },
        "id": "J_vtciUUdGWy",
        "outputId": "1a7dbbf2-ec54-4345-a033-f08c0754a1e8"
      },
      "execution_count": null,
      "outputs": [
        {
          "output_type": "stream",
          "name": "stdout",
          "text": [
            "[[0 1 2]\n",
            " [3 4 5]]\n"
          ]
        }
      ]
    },
    {
      "cell_type": "code",
      "source": [
        "b.size"
      ],
      "metadata": {
        "colab": {
          "base_uri": "https://localhost:8080/"
        },
        "id": "F632F4d1djOP",
        "outputId": "800ead68-1663-4f3d-d553-895e5fc7ab63"
      },
      "execution_count": null,
      "outputs": [
        {
          "output_type": "execute_result",
          "data": {
            "text/plain": [
              "6"
            ]
          },
          "metadata": {},
          "execution_count": 62
        }
      ]
    },
    {
      "cell_type": "code",
      "source": [
        "np.reshape(a, (2, 3), order='C')"
      ],
      "metadata": {
        "colab": {
          "base_uri": "https://localhost:8080/"
        },
        "id": "3JNqJSbAdkNI",
        "outputId": "2649d043-41f5-419d-a4b2-bc56812f635c"
      },
      "execution_count": null,
      "outputs": [
        {
          "output_type": "execute_result",
          "data": {
            "text/plain": [
              "array([[0, 1, 2],\n",
              "       [3, 4, 5]])"
            ]
          },
          "metadata": {},
          "execution_count": 66
        }
      ]
    },
    {
      "cell_type": "code",
      "source": [
        "# Add a new axis to an Array : np.newaxis\n",
        "# Convert a 1D to a row vector\n",
        "row_vector = a[np.newaxis, :]\n",
        "print(row_vector)\n",
        "print(row_vector.shape)"
      ],
      "metadata": {
        "colab": {
          "base_uri": "https://localhost:8080/"
        },
        "id": "s813-HHresEF",
        "outputId": "c982b56e-3525-4e22-d68e-0894af3d6462"
      },
      "execution_count": null,
      "outputs": [
        {
          "output_type": "stream",
          "name": "stdout",
          "text": [
            "[[0 1 2 3 4 5]]\n",
            "(1, 6)\n"
          ]
        }
      ]
    },
    {
      "cell_type": "code",
      "source": [
        "# Convert a 1D to a column vector\n",
        "col_vector = a[:, np.newaxis]\n",
        "print(col_vector)\n",
        "print(col_vector.shape)"
      ],
      "metadata": {
        "colab": {
          "base_uri": "https://localhost:8080/"
        },
        "id": "CgkG9zb6fWQx",
        "outputId": "337b63ad-f0a8-4e2c-9efd-355de57602dc"
      },
      "execution_count": null,
      "outputs": [
        {
          "output_type": "stream",
          "name": "stdout",
          "text": [
            "[[0]\n",
            " [1]\n",
            " [2]\n",
            " [3]\n",
            " [4]\n",
            " [5]]\n",
            "(6, 1)\n"
          ]
        }
      ]
    },
    {
      "cell_type": "code",
      "source": [
        "# Inserting a new axis : np.expand_dims\n",
        "a = np.array([1, 2, 3, 4, 5, 6])\n",
        "a.shape\n",
        "print(a)"
      ],
      "metadata": {
        "colab": {
          "base_uri": "https://localhost:8080/"
        },
        "id": "gWs_1oupe2WP",
        "outputId": "f2fc4496-c3e0-449e-caa2-6b3651e05d15"
      },
      "execution_count": null,
      "outputs": [
        {
          "output_type": "stream",
          "name": "stdout",
          "text": [
            "[1 2 3 4 5 6]\n"
          ]
        }
      ]
    },
    {
      "cell_type": "code",
      "source": [
        "b = np.expand_dims(a, axis=1)\n",
        "b.shape\n",
        "print(b)"
      ],
      "metadata": {
        "colab": {
          "base_uri": "https://localhost:8080/"
        },
        "id": "cMEo0VvAez_T",
        "outputId": "15ce83fe-f6b3-4f66-f358-48c15bc66b86"
      },
      "execution_count": null,
      "outputs": [
        {
          "output_type": "stream",
          "name": "stdout",
          "text": [
            "[[1]\n",
            " [2]\n",
            " [3]\n",
            " [4]\n",
            " [5]\n",
            " [6]]\n"
          ]
        }
      ]
    },
    {
      "cell_type": "code",
      "source": [
        "c = np.expand_dims(a, axis=0)\n",
        "c.shape\n",
        "print(c)"
      ],
      "metadata": {
        "colab": {
          "base_uri": "https://localhost:8080/"
        },
        "id": "gFKzAo3ogF-H",
        "outputId": "1ac42443-1fd7-43b5-8e5b-1de2ba4ffd07"
      },
      "execution_count": null,
      "outputs": [
        {
          "output_type": "stream",
          "name": "stdout",
          "text": [
            "[[1 2 3 4 5 6]]\n"
          ]
        }
      ]
    },
    {
      "cell_type": "code",
      "source": [
        "# Indexing and Slicing\n",
        "a = np.array([[1 , 2, 3, 4], [5, 6, 7, 8], [9, 10, 11, 12]])\n",
        "print(a.shape)\n",
        "print(a.ndim)\n",
        "print(a)\n"
      ],
      "metadata": {
        "colab": {
          "base_uri": "https://localhost:8080/"
        },
        "id": "TAXtp9s7gc34",
        "outputId": "92280edd-6e39-45f9-d3b6-957885c3cecc"
      },
      "execution_count": null,
      "outputs": [
        {
          "output_type": "stream",
          "name": "stdout",
          "text": [
            "(3, 4)\n",
            "2\n",
            "[[ 1  2  3  4]\n",
            " [ 5  6  7  8]\n",
            " [ 9 10 11 12]]\n"
          ]
        }
      ]
    },
    {
      "cell_type": "code",
      "source": [
        "# All values less than 5\n",
        "b = a[a<5]\n",
        "b"
      ],
      "metadata": {
        "colab": {
          "base_uri": "https://localhost:8080/"
        },
        "id": "_6KDhKGEgn97",
        "outputId": "fcf1605d-8918-4e1b-96ee-f4a440a955d0"
      },
      "execution_count": null,
      "outputs": [
        {
          "output_type": "execute_result",
          "data": {
            "text/plain": [
              "array([1, 2, 3, 4])"
            ]
          },
          "metadata": {},
          "execution_count": 86
        }
      ]
    },
    {
      "cell_type": "code",
      "source": [
        "five_up = (a >= 5)\n",
        "c = a[five_up]\n",
        "print(c)"
      ],
      "metadata": {
        "colab": {
          "base_uri": "https://localhost:8080/"
        },
        "id": "lHMqpR5zhB9p",
        "outputId": "2dc95d24-2b33-4f70-976f-33af4c87c97a"
      },
      "execution_count": null,
      "outputs": [
        {
          "output_type": "stream",
          "name": "stdout",
          "text": [
            "[ 5  6  7  8  9 10 11 12]\n"
          ]
        }
      ]
    },
    {
      "cell_type": "code",
      "source": [
        "d = a[(a>2) & (a< 11)]\n",
        "print(d)"
      ],
      "metadata": {
        "colab": {
          "base_uri": "https://localhost:8080/"
        },
        "id": "4Ufun0f4hXu5",
        "outputId": "ed284558-8809-45b1-f443-c45046e05024"
      },
      "execution_count": null,
      "outputs": [
        {
          "output_type": "stream",
          "name": "stdout",
          "text": [
            "[ 3  4  5  6  7  8  9 10]\n"
          ]
        }
      ]
    },
    {
      "cell_type": "code",
      "source": [
        "# Pour tester si des valeurs existes à un point de coordonnées\n",
        "a = np.array([[1, 2, 3, 4], [5, 6, 7, 8], [9, 10, 11, 12]])\n",
        "a"
      ],
      "metadata": {
        "colab": {
          "base_uri": "https://localhost:8080/"
        },
        "id": "7EjcdcZGiRbg",
        "outputId": "14d1d904-d6e8-4c2a-d023-7dc74eb0a68c"
      },
      "execution_count": null,
      "outputs": [
        {
          "output_type": "execute_result",
          "data": {
            "text/plain": [
              "array([[ 1,  2,  3,  4],\n",
              "       [ 5,  6,  7,  8],\n",
              "       [ 9, 10, 11, 12]])"
            ]
          },
          "metadata": {},
          "execution_count": 95
        }
      ]
    },
    {
      "cell_type": "code",
      "source": [
        "# On peut aussi la fonction 'nonzero'\n",
        "b = np.nonzero(a < 5)\n",
        "print(b)"
      ],
      "metadata": {
        "colab": {
          "base_uri": "https://localhost:8080/"
        },
        "id": "p2yAnYzpidUD",
        "outputId": "ac94de03-e584-4977-a195-6a7d57bda7e3"
      },
      "execution_count": null,
      "outputs": [
        {
          "output_type": "stream",
          "name": "stdout",
          "text": [
            "(array([0, 0, 0, 0]), array([0, 1, 2, 3]))\n"
          ]
        }
      ]
    },
    {
      "cell_type": "code",
      "source": [
        "#If you want to generate a list of coordinates where the elements exist, you # can zip the arrays, iterate over the list of coordinates, and print them.\n",
        "coordinates_list = list(zip(b[0], b[1]))\n",
        "for coord in coordinates_list:\n",
        "    print(coord)"
      ],
      "metadata": {
        "colab": {
          "base_uri": "https://localhost:8080/"
        },
        "id": "85qPlcEwjHw_",
        "outputId": "b87a1992-dfde-4c3b-80e7-24b38e068c42"
      },
      "execution_count": null,
      "outputs": [
        {
          "output_type": "stream",
          "name": "stdout",
          "text": [
            "(np.int64(0), np.int64(0))\n",
            "(np.int64(0), np.int64(1))\n",
            "(np.int64(0), np.int64(2))\n",
            "(np.int64(0), np.int64(3))\n"
          ]
        }
      ]
    },
    {
      "cell_type": "code",
      "source": [
        "#\n",
        "a[b]"
      ],
      "metadata": {
        "colab": {
          "base_uri": "https://localhost:8080/"
        },
        "id": "URVftiKjjQdK",
        "outputId": "f341d2c2-8ff4-4e2d-b8f9-0df2fbaa0783"
      },
      "execution_count": null,
      "outputs": [
        {
          "output_type": "execute_result",
          "data": {
            "text/plain": [
              "array([1, 2, 3, 4])"
            ]
          },
          "metadata": {},
          "execution_count": 101
        }
      ]
    },
    {
      "cell_type": "code",
      "source": [
        "len?"
      ],
      "metadata": {
        "id": "aR7BmRxYku5w"
      },
      "execution_count": null,
      "outputs": []
    },
    {
      "cell_type": "code",
      "source": [],
      "metadata": {
        "id": "t1RFxmbNlRdK"
      },
      "execution_count": null,
      "outputs": []
    },
    {
      "cell_type": "code",
      "source": [],
      "metadata": {
        "id": "BR1vgMxJlMlo"
      },
      "execution_count": null,
      "outputs": []
    },
    {
      "cell_type": "markdown",
      "source": [
        "# Autres Ressources à consulter"
      ],
      "metadata": {
        "id": "MEgpfnI43cfU"
      }
    },
    {
      "cell_type": "markdown",
      "source": [
        "## From my own research\n",
        "\n",
        "0. https://www.coursera.org/specializations/mathematics-machine-learning (A voir si seulement nécessaire)\n",
        "\n",
        "1. https://developers.google.com/machine-learning/intro-to-ml\n",
        "2. https://developers.google.com/machine-learning/crash-course\n",
        "\n",
        "3. https://www.coursera.org/professional-certificates/ibm-machine-learning,\n",
        "\n",
        "4. https://www.coursera.org/specializations/deep-learning\n",
        "\n",
        "5. https://www.coursera.org/specializations/packt-the-complete-quantum-computing-course-for-beginners\n",
        "6. https://www.udemy.com/course/quantum-computers/?couponCode=2021PM20\n",
        "\n",
        "## From Youtube\n",
        "1. Python basics\n",
        "2. Why Machines Learn: Anil Ananthaswamy\n",
        "3. Andrew Ng ML specialization\n",
        "4. Andrew Ng Deep learning specialization\n",
        "5. CS25 Transformer Architecture\n",
        "6. Andrej Karpathy YT all videos\n",
        "7. Understanding Deep Learning Simon prince (for theory research top dense work)\n",
        "8. Numpy/panda/matplotlib/pytorch/tensorflow/jax/sckit learn -> kaggle begginer projects\n",
        "9.  Reading Research paper\n",
        "10. show ur work & projects (linkedin/blog post/research paper submit)"
      ],
      "metadata": {
        "id": "oFlwT7VI3gc5"
      }
    },
    {
      "cell_type": "code",
      "source": [],
      "metadata": {
        "id": "HgV6j7eU33Em"
      },
      "execution_count": null,
      "outputs": []
    },
    {
      "cell_type": "code",
      "source": [],
      "metadata": {
        "id": "zRDWrIJf3yrN"
      },
      "execution_count": null,
      "outputs": []
    },
    {
      "cell_type": "code",
      "source": [],
      "metadata": {
        "id": "b5JohP563h3r"
      },
      "execution_count": null,
      "outputs": []
    },
    {
      "cell_type": "code",
      "source": [],
      "metadata": {
        "id": "UHa4Ao2J3fql"
      },
      "execution_count": null,
      "outputs": []
    }
  ]
}